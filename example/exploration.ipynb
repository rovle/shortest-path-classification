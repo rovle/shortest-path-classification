{
 "metadata": {
  "language_info": {
   "codemirror_mode": {
    "name": "ipython",
    "version": 3
   },
   "file_extension": ".py",
   "mimetype": "text/x-python",
   "name": "python",
   "nbconvert_exporter": "python",
   "pygments_lexer": "ipython3",
   "version": "3.8.5"
  },
  "orig_nbformat": 2,
  "kernelspec": {
   "name": "python385jvsc74a57bd0e4724c4f1193458327c9fd27e93e82201b4f22d46bfd685926396a0b7f3503db",
   "display_name": "Python 3.8.5 64-bit ('shortest-path': conda)"
  }
 },
 "nbformat": 4,
 "nbformat_minor": 2,
 "cells": [
  {
   "source": [
    "## Learning languages from a single message\n",
    "\n",
    "In this example we'll see how this algorithm has the power to accurately identify languages after seeing messages of very short length."
   ],
   "cell_type": "markdown",
   "metadata": {}
  },
  {
   "cell_type": "code",
   "execution_count": 1,
   "metadata": {},
   "outputs": [],
   "source": [
    "import os\n",
    "from random import shuffle, sample, seed\n",
    "import pandas as pd\n",
    "from collections import defaultdict\n",
    "from itertools import combinations\n",
    "import networkx as nx\n",
    "from statistics import median\n",
    "from dataset_utils.sample_dataset import sample_dataset\n",
    "seed(42)"
   ]
  },
  {
   "cell_type": "code",
   "execution_count": 163,
   "metadata": {},
   "outputs": [],
   "source": [
    "path_to_samples = os.path.join('dataset', 'samples')\n",
    "samples = defaultdict()\n",
    "languages = ['en', 'es']\n",
    "for language in languages:\n",
    "    path_to_samples_language = os.path.join(path_to_samples,\n",
    "                                f'{language}_samples_len_10.txt')\n",
    "    with open(path_to_samples_language, 'r') as file:\n",
    "        samples[language] = file.read()"
   ]
  },
  {
   "cell_type": "code",
   "execution_count": 164,
   "metadata": {},
   "outputs": [],
   "source": [
    "for language in languages:\n",
    "    samples[language] = samples[language].split('\\n')"
   ]
  },
  {
   "cell_type": "code",
   "execution_count": 165,
   "metadata": {},
   "outputs": [],
   "source": [
    "samples_limited = defaultdict()"
   ]
  },
  {
   "cell_type": "code",
   "execution_count": 166,
   "metadata": {},
   "outputs": [],
   "source": [
    "n_of_samples = 1000\n",
    "for language in languages:\n",
    "    samples_limited[language] = sample(samples[language], n_of_samples)"
   ]
  },
  {
   "cell_type": "code",
   "execution_count": 167,
   "metadata": {},
   "outputs": [],
   "source": [
    "def similarity_score(string1, string2):\n",
    "    string1 = string1.split(' ')\n",
    "    string2 = string2.split(' ')\n",
    "    intersection = [x for x in string1 if x in string2]\n",
    "    if len(intersection) == 0:\n",
    "        return float('inf')\n",
    "    else:\n",
    "        return 1/(len(intersection)**4)"
   ]
  },
  {
   "cell_type": "code",
   "execution_count": 169,
   "metadata": {},
   "outputs": [],
   "source": [
    "combined_list = samples_limited['en'] + samples_limited['es']\n",
    "\n",
    "x = list(enumerate(combined_list))\n",
    "shuffle(x)\n",
    "indices, combined_list = zip(*x)\n",
    "\n",
    "labels = [0 if y < n_of_samples else 1 for y in indices]"
   ]
  },
  {
   "cell_type": "code",
   "execution_count": 170,
   "metadata": {
    "tags": []
   },
   "outputs": [
    {
     "output_type": "execute_result",
     "data": {
      "text/plain": [
       "((454, 773, 198, 609, 450, 1255, 1765, 985, 143, 816),\n",
       " [0, 0, 0, 0, 0, 1, 1, 0, 0, 0],\n",
       " ('objective to reduce greenhouse gas experience I know that heading',\n",
       "  'benefit from social is that the Council did not agree',\n",
       "  'and to guarantee that the privacy of their communications is',\n",
       "  'the utmost we had to give reasons for the existence',\n",
       "  'we now all know is in no position to bring',\n",
       "  'ha aprendido la lección tras la crisis Donata Gottardi califica',\n",
       "  'justificación parece de sentido los recursos como el bacalao por',\n",
       "  'develop and the maintenance of ecosystems should become a fundamental',\n",
       "  'like to thank Mr Graefe zu Baringdorf for a very',\n",
       "  'Pacific entire dispute with the United has arisen because we'))"
      ]
     },
     "metadata": {},
     "execution_count": 170
    }
   ],
   "source": [
    "indices[:10], labels[:10], combined_list[:10]"
   ]
  },
  {
   "cell_type": "code",
   "execution_count": 171,
   "metadata": {},
   "outputs": [],
   "source": [
    "graph = []\n",
    "i = 0\n",
    "for combination in combinations(x, 2):\n",
    "    similarity = similarity_score(combination[0][1], combination[1][1])\n",
    "    if similarity == float('inf'):\n",
    "        continue\n",
    "    graph.append( ( combination[0][0], combination[1][0],\n",
    "            similarity_score(combination[0][1], combination[1][1]) ) )"
   ]
  },
  {
   "cell_type": "code",
   "execution_count": 172,
   "metadata": {},
   "outputs": [
    {
     "output_type": "execute_result",
     "data": {
      "text/plain": [
       "782798"
      ]
     },
     "metadata": {},
     "execution_count": 172
    }
   ],
   "source": [
    "len(graph)"
   ]
  },
  {
   "cell_type": "code",
   "execution_count": 173,
   "metadata": {},
   "outputs": [],
   "source": [
    "G = nx.Graph()"
   ]
  },
  {
   "cell_type": "code",
   "execution_count": 174,
   "metadata": {},
   "outputs": [],
   "source": [
    "for edge in graph:\n",
    "    G.add_edge(str(edge[0]), str(edge[1]), weight=edge[2])"
   ]
  },
  {
   "cell_type": "code",
   "execution_count": 175,
   "metadata": {},
   "outputs": [],
   "source": [
    "from networkx.algorithms.shortest_paths.weighted import single_source_dijkstra"
   ]
  },
  {
   "cell_type": "code",
   "execution_count": 176,
   "metadata": {},
   "outputs": [
    {
     "output_type": "stream",
     "name": "stdout",
     "text": [
      "0.014660493827160493\n"
     ]
    }
   ],
   "source": [
    "distances = single_source_dijkstra(G, '0')[0]\n",
    "medijan = median(distances.values())\n",
    "print(medijan)\n",
    "predicted_labels = []\n",
    "for x in range(n_of_samples*2):\n",
    "    if x == 0:\n",
    "        continue\n",
    "    if distances[str(x)] > medijan:\n",
    "        predicted_labels.append(1)\n",
    "    else:\n",
    "        predicted_labels.append(0)"
   ]
  },
  {
   "cell_type": "code",
   "execution_count": 177,
   "metadata": {},
   "outputs": [],
   "source": [
    "labelss = [0 if x < n_of_samples else 1 for x in range(n_of_samples-1)]\n",
    "truth = [1 if (predicted_labels[x] == labelss[x]) else 0 for x in range(n_of_samples-1)]"
   ]
  },
  {
   "cell_type": "code",
   "execution_count": 178,
   "metadata": {},
   "outputs": [
    {
     "output_type": "execute_result",
     "data": {
      "text/plain": [
       "0.9259259259259259"
      ]
     },
     "metadata": {},
     "execution_count": 178
    }
   ],
   "source": [
    "sum(truth)/(n_of_samples-1)"
   ]
  },
  {
   "cell_type": "code",
   "execution_count": null,
   "metadata": {},
   "outputs": [],
   "source": []
  }
 ]
}