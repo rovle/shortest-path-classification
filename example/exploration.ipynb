{
 "metadata": {
  "language_info": {
   "codemirror_mode": {
    "name": "ipython",
    "version": 3
   },
   "file_extension": ".py",
   "mimetype": "text/x-python",
   "name": "python",
   "nbconvert_exporter": "python",
   "pygments_lexer": "ipython3",
   "version": "3.8.5"
  },
  "orig_nbformat": 2,
  "kernelspec": {
   "name": "python385jvsc74a57bd0e4724c4f1193458327c9fd27e93e82201b4f22d46bfd685926396a0b7f3503db",
   "display_name": "Python 3.8.5 64-bit ('shortest-path': conda)"
  }
 },
 "nbformat": 4,
 "nbformat_minor": 2,
 "cells": [
  {
   "cell_type": "code",
   "execution_count": 1,
   "metadata": {},
   "outputs": [],
   "source": [
    "import os\n",
    "from random import shuffle, sample, seed\n",
    "import pandas as pd\n",
    "from collections import defaultdict\n",
    "from itertools import combinations\n",
    "import networkx as nx\n",
    "from statistics import median\n",
    "seed(42)"
   ]
  },
  {
   "cell_type": "code",
   "execution_count": 2,
   "metadata": {},
   "outputs": [],
   "source": [
    "path_to_samples = os.path.join('dataset', 'samples')\n",
    "samples = defaultdict()\n",
    "languages = ['en', 'de']\n",
    "for language in languages:\n",
    "    path_to_samples_language = os.path.join(path_to_samples,\n",
    "                                f'{language}_samples_len_10.txt')\n",
    "    with open(path_to_samples_language, 'r') as file:\n",
    "        samples[language] = file.read()"
   ]
  },
  {
   "cell_type": "code",
   "execution_count": 3,
   "metadata": {},
   "outputs": [],
   "source": [
    "for language in languages:\n",
    "    samples[language] = samples[language].split('\\n')"
   ]
  },
  {
   "cell_type": "code",
   "execution_count": 4,
   "metadata": {},
   "outputs": [
    {
     "output_type": "execute_result",
     "data": {
      "text/plain": [
       "(361764, 284323)"
      ]
     },
     "metadata": {},
     "execution_count": 4
    }
   ],
   "source": [
    "len(samples['en']), len(samples['de'])"
   ]
  },
  {
   "cell_type": "code",
   "execution_count": 89,
   "metadata": {},
   "outputs": [],
   "source": [
    "samples_limited = defaultdict()"
   ]
  },
  {
   "cell_type": "code",
   "execution_count": 90,
   "metadata": {},
   "outputs": [],
   "source": [
    "n_of_samples = 2000\n",
    "for language in languages:\n",
    "    samples_limited[language] = sample(samples[language], n_of_samples)"
   ]
  },
  {
   "cell_type": "code",
   "execution_count": 77,
   "metadata": {},
   "outputs": [
    {
     "output_type": "execute_result",
     "data": {
      "text/plain": [
       "(1000, 1000)"
      ]
     },
     "metadata": {},
     "execution_count": 77
    }
   ],
   "source": [
    "len(samples_limited['en']), len(samples_limited['de'])"
   ]
  },
  {
   "cell_type": "code",
   "execution_count": 78,
   "metadata": {},
   "outputs": [],
   "source": [
    "def similarity_score(string1, string2):\n",
    "    string1 = string1.split(' ')\n",
    "    string2 = string2.split(' ')\n",
    "    intersection = [x for x in string1 if x in string2]\n",
    "    if len(intersection) == 0:\n",
    "        return float('inf')\n",
    "    else:\n",
    "        return 1/(len(intersection)**4)"
   ]
  },
  {
   "cell_type": "code",
   "execution_count": 79,
   "metadata": {},
   "outputs": [],
   "source": [
    "combined_list = samples_limited['en'] + samples_limited['de']\n",
    "\n",
    "x = list(enumerate(combined_list))\n",
    "shuffle(x)\n",
    "indices, combined_list = zip(*x)\n",
    "\n",
    "labels = [0 if y < n_of_samples else 1 for y in indices]"
   ]
  },
  {
   "cell_type": "code",
   "execution_count": 80,
   "metadata": {
    "tags": []
   },
   "outputs": [
    {
     "output_type": "execute_result",
     "data": {
      "text/plain": [
       "((1116, 1757, 1519, 1431, 1461, 81, 373, 1675, 76, 3),\n",
       " [1, 1, 1, 1, 1, 0, 0, 1, 0, 0],\n",
       " ('stellte meine Kollegin Frau Gradin ein Memorandum über den Beitrag',\n",
       "  'der klassischen Diplomatie ist in diesem Fall völlig mehr den',\n",
       "  'problemlos verlaufen können jedoch intelligent gestaltet also die durch sie',\n",
       "  'Seite dass sie eine Demokratie auf Grundlagen die so fundamental',\n",
       "  'Europa auch im Bereich der Flugsicherheit eine führende Rolle als',\n",
       "  'same conditions and objectives of our financial assistance that the',\n",
       "  'must engage the whole of the institutions of including we',\n",
       "  'ihrer aber auch mit der Kriminalität im Zusammenhang mit illegalen',\n",
       "  'Court of Justice and account for in detailed to the',\n",
       "  'they are prepared to do also should this become that'))"
      ]
     },
     "metadata": {},
     "execution_count": 80
    }
   ],
   "source": [
    "indices[:10], labels[:10], combined_list[:10]"
   ]
  },
  {
   "cell_type": "code",
   "execution_count": 81,
   "metadata": {},
   "outputs": [],
   "source": [
    "graph = []\n",
    "i = 0\n",
    "for combination in combinations(x, 2):\n",
    "    similarity = similarity_score(combination[0][1], combination[1][1])\n",
    "    if similarity == float('inf'):\n",
    "        continue\n",
    "    graph.append( ( combination[0][0], combination[1][0],\n",
    "            similarity_score(combination[0][1], combination[1][1]) ) )"
   ]
  },
  {
   "cell_type": "code",
   "execution_count": 82,
   "metadata": {},
   "outputs": [
    {
     "output_type": "execute_result",
     "data": {
      "text/plain": [
       "669350"
      ]
     },
     "metadata": {},
     "execution_count": 82
    }
   ],
   "source": [
    "len(graph)"
   ]
  },
  {
   "cell_type": "code",
   "execution_count": 83,
   "metadata": {},
   "outputs": [],
   "source": [
    "G = nx.Graph()"
   ]
  },
  {
   "cell_type": "code",
   "execution_count": 84,
   "metadata": {},
   "outputs": [],
   "source": [
    "for edge in graph:\n",
    "    G.add_edge(str(edge[0]), str(edge[1]), weight=edge[2])"
   ]
  },
  {
   "cell_type": "code",
   "execution_count": 85,
   "metadata": {},
   "outputs": [],
   "source": [
    "from networkx.algorithms.shortest_paths.weighted import single_source_dijkstra"
   ]
  },
  {
   "cell_type": "code",
   "execution_count": 86,
   "metadata": {},
   "outputs": [
    {
     "output_type": "stream",
     "name": "stdout",
     "text": [
      "0.015611651523799239\n"
     ]
    }
   ],
   "source": [
    "distances = single_source_dijkstra(G, '0')[0]\n",
    "medijan = median(distances.values())\n",
    "print(medijan)\n",
    "predicted_labels = []\n",
    "for x in range(n_of_samples*2):\n",
    "    if x == 0:\n",
    "        continue\n",
    "    if distances[str(x)] > medijan:\n",
    "        predicted_labels.append(1)\n",
    "    else:\n",
    "        predicted_labels.append(0)"
   ]
  },
  {
   "cell_type": "code",
   "execution_count": 87,
   "metadata": {},
   "outputs": [],
   "source": [
    "labelss = [0 if x < n_of_samples else 1 for x in range(n_of_samples-1)]\n",
    "truth = [1 if (predicted_labels[x] == labelss[x]) else 0 for x in range(n_of_samples-1)]"
   ]
  },
  {
   "cell_type": "code",
   "execution_count": 88,
   "metadata": {},
   "outputs": [
    {
     "output_type": "execute_result",
     "data": {
      "text/plain": [
       "0.988988988988989"
      ]
     },
     "metadata": {},
     "execution_count": 88
    }
   ],
   "source": [
    "sum(truth)/(n_of_samples-1)"
   ]
  },
  {
   "cell_type": "code",
   "execution_count": null,
   "metadata": {},
   "outputs": [],
   "source": []
  }
 ]
}